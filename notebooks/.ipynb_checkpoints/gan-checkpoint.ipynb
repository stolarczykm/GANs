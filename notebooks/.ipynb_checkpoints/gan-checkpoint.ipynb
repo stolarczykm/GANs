{
 "cells": [
  {
   "cell_type": "code",
   "execution_count": 1,
   "metadata": {},
   "outputs": [],
   "source": [
    "from sklearn.datasets import make_circles, make_moons\n",
    "import matplotlib.pyplot as plt\n",
    "%matplotlib inline\n",
    "import os, sys\n",
    "import numpy as np\n",
    "sys.path.append(os.path.abspath(\"../src\"))"
   ]
  },
  {
   "cell_type": "code",
   "execution_count": 2,
   "metadata": {},
   "outputs": [
    {
     "name": "stderr",
     "output_type": "stream",
     "text": [
      "/usr/local/lib/python3.5/dist-packages/h5py/__init__.py:36: FutureWarning: Conversion of the second argument of issubdtype from `float` to `np.floating` is deprecated. In future, it will be treated as `np.float64 == np.dtype(float).type`.\n",
      "  from ._conv import register_converters as _register_converters\n",
      "Using TensorFlow backend.\n"
     ]
    }
   ],
   "source": [
    "from keras.datasets import mnist"
   ]
  },
  {
   "cell_type": "code",
   "execution_count": 3,
   "metadata": {},
   "outputs": [],
   "source": [
    "from gan import GAN"
   ]
  },
  {
   "cell_type": "code",
   "execution_count": 5,
   "metadata": {},
   "outputs": [
    {
     "name": "stdout",
     "output_type": "stream",
     "text": [
      "Tensor(\"reshape_2/Reshape:0\", shape=(?, 7, 7, 3), dtype=float32)\n",
      "Tensor(\"conv2d_5/Relu:0\", shape=(?, ?, ?, 32), dtype=float32)\n",
      "_________________________________________________________________\n",
      "Layer (type)                 Output Shape              Param #   \n",
      "=================================================================\n",
      "input_4 (InputLayer)         (None, 20)                0         \n",
      "_________________________________________________________________\n",
      "dense_6 (Dense)              (None, 147)               3087      \n",
      "_________________________________________________________________\n",
      "reshape_2 (Reshape)          (None, 7, 7, 3)           0         \n",
      "_________________________________________________________________\n",
      "conv2d_transpose_1 (Conv2DTr (None, 14, 14, 32)        896       \n",
      "_________________________________________________________________\n",
      "conv2d_5 (Conv2D)            (None, 14, 14, 32)        9248      \n",
      "_________________________________________________________________\n",
      "conv2d_transpose_2 (Conv2DTr (None, 28, 28, 32)        9248      \n",
      "_________________________________________________________________\n",
      "conv2d_6 (Conv2D)            (None, 28, 28, 32)        9248      \n",
      "_________________________________________________________________\n",
      "conv2d_7 (Conv2D)            (None, 28, 28, 1)         289       \n",
      "=================================================================\n",
      "Total params: 32,016\n",
      "Trainable params: 32,016\n",
      "Non-trainable params: 0\n",
      "_________________________________________________________________\n",
      "_________________________________________________________________\n",
      "Layer (type)                 Output Shape              Param #   \n",
      "=================================================================\n",
      "input_3 (InputLayer)         (None, 28, 28, 1)         0         \n",
      "_________________________________________________________________\n",
      "conv2d_3 (Conv2D)            (None, 28, 28, 10)        100       \n",
      "_________________________________________________________________\n",
      "conv2d_4 (Conv2D)            (None, 28, 28, 10)        910       \n",
      "_________________________________________________________________\n",
      "max_pooling2d_2 (MaxPooling2 (None, 14, 14, 10)        0         \n",
      "_________________________________________________________________\n",
      "flatten_2 (Flatten)          (None, 1960)              0         \n",
      "_________________________________________________________________\n",
      "dense_4 (Dense)              (None, 20)                39220     \n",
      "_________________________________________________________________\n",
      "dense_5 (Dense)              (None, 1)                 21        \n",
      "=================================================================\n",
      "Total params: 40,251\n",
      "Trainable params: 40,251\n",
      "Non-trainable params: 0\n",
      "_________________________________________________________________\n"
     ]
    }
   ],
   "source": [
    "noise_size = 20\n",
    "model = GAN(noise_dim=noise_size,\n",
    "            input_dim=(28, 28, 1),\n",
    "            discriminator_units=(10, 10),\n",
    "            generator_units=(7*7*3, 32, 32))"
   ]
  },
  {
   "cell_type": "code",
   "execution_count": 6,
   "metadata": {},
   "outputs": [],
   "source": [
    "data = mnist.load_data()\n",
    "\n",
    "train, test = data\n",
    "\n",
    "X, y = train\n",
    "\n",
    "X = X[y==1]\n",
    "\n",
    "X = X.astype(np.float32) / 128 - 1\n",
    "\n",
    "X = np.expand_dims(X, 3)"
   ]
  },
  {
   "cell_type": "code",
   "execution_count": 7,
   "metadata": {},
   "outputs": [],
   "source": [
    "import numpy as np"
   ]
  },
  {
   "cell_type": "code",
   "execution_count": 48,
   "metadata": {},
   "outputs": [
    {
     "name": "stdout",
     "output_type": "stream",
     "text": [
      "tensorboard==1.7.0\r\n",
      "tensorflow==1.7.0\r\n",
      "tensorflow-gpu==1.7.1\r\n"
     ]
    }
   ],
   "source": [
    "!pip freeze | grep tensor"
   ]
  },
  {
   "cell_type": "code",
   "execution_count": 8,
   "metadata": {
    "scrolled": true
   },
   "outputs": [
    {
     "name": "stdout",
     "output_type": "stream",
     "text": [
      "0\n",
      "1.0946587 , 0.33139032, 0.29747024 , 0.84590775\n",
      "3.3377419 , 0.03695316, 0.0 , 0.99895835\n",
      "4.077461 , 0.10529343, 0.023958333 , 0.9707589\n",
      "2.298822 , 0.26789603, 0.056994047 , 0.91614586\n",
      "2.580605 , 0.17091471, 0.026339285 , 0.96346724\n",
      "2.980453 , 0.11170963, 0.0069940477 , 0.97760415\n",
      "2.8804164 , 0.15223539, 0.021428572 , 0.96450895\n",
      "2.5218344 , 0.1966795, 0.032886904 , 0.9548363\n",
      "2.277836 , 0.20228082, 0.01264881 , 0.96748513\n",
      "2.3543842 , 0.16597007, 0.002232143 , 0.9768601\n",
      "1\n"
     ]
    },
    {
     "ename": "KeyboardInterrupt",
     "evalue": "",
     "output_type": "error",
     "traceback": [
      "\u001b[0;31m\u001b[0m",
      "\u001b[0;31mKeyboardInterrupt\u001b[0mTraceback (most recent call last)",
      "\u001b[0;32m<ipython-input-8-6e0d613c7bae>\u001b[0m in \u001b[0;36m<module>\u001b[0;34m()\u001b[0m\n\u001b[1;32m      3\u001b[0m \u001b[0;32mfor\u001b[0m \u001b[0mi\u001b[0m \u001b[0;32min\u001b[0m \u001b[0mrange\u001b[0m\u001b[0;34m(\u001b[0m\u001b[0;36m1000\u001b[0m\u001b[0;34m)\u001b[0m\u001b[0;34m:\u001b[0m\u001b[0;34m\u001b[0m\u001b[0m\n\u001b[1;32m      4\u001b[0m     \u001b[0mprint\u001b[0m\u001b[0;34m(\u001b[0m\u001b[0mi\u001b[0m\u001b[0;34m)\u001b[0m\u001b[0;34m\u001b[0m\u001b[0m\n\u001b[0;32m----> 5\u001b[0;31m     \u001b[0mmodel\u001b[0m\u001b[0;34m.\u001b[0m\u001b[0mtrain\u001b[0m\u001b[0;34m(\u001b[0m\u001b[0mX\u001b[0m\u001b[0;34m,\u001b[0m \u001b[0;36m10\u001b[0m\u001b[0;34m,\u001b[0m \u001b[0;36m64\u001b[0m\u001b[0;34m)\u001b[0m\u001b[0;34m\u001b[0m\u001b[0m\n\u001b[0m\u001b[1;32m      6\u001b[0m     \u001b[0mpred\u001b[0m \u001b[0;34m=\u001b[0m \u001b[0mmodel\u001b[0m\u001b[0;34m.\u001b[0m\u001b[0mgenerator\u001b[0m\u001b[0;34m.\u001b[0m\u001b[0mpredict\u001b[0m\u001b[0;34m(\u001b[0m\u001b[0mnoise\u001b[0m\u001b[0;34m)\u001b[0m\u001b[0;34m\u001b[0m\u001b[0m\n\u001b[1;32m      7\u001b[0m     \u001b[0mpredictions\u001b[0m\u001b[0;34m.\u001b[0m\u001b[0mappend\u001b[0m\u001b[0;34m(\u001b[0m\u001b[0mpred\u001b[0m\u001b[0;34m)\u001b[0m\u001b[0;34m\u001b[0m\u001b[0m\n",
      "\u001b[0;32m/src/gan.py\u001b[0m in \u001b[0;36mtrain\u001b[0;34m(self, X, epochs, batch_size)\u001b[0m\n\u001b[1;32m     45\u001b[0m                 g_loss = self.combined_model.train_on_batch(\n\u001b[1;32m     46\u001b[0m                     \u001b[0mnoise\u001b[0m\u001b[0;34m,\u001b[0m\u001b[0;34m\u001b[0m\u001b[0m\n\u001b[0;32m---> 47\u001b[0;31m                     np.ones(half_batch_size))\n\u001b[0m\u001b[1;32m     48\u001b[0m                 \u001b[0mgenerator_losses\u001b[0m\u001b[0;34m.\u001b[0m\u001b[0mappend\u001b[0m\u001b[0;34m(\u001b[0m\u001b[0mg_loss\u001b[0m\u001b[0;34m[\u001b[0m\u001b[0;36m0\u001b[0m\u001b[0;34m]\u001b[0m\u001b[0;34m)\u001b[0m\u001b[0;34m\u001b[0m\u001b[0m\n\u001b[1;32m     49\u001b[0m                 \u001b[0mdiscriminator_losses\u001b[0m\u001b[0;34m.\u001b[0m\u001b[0mappend\u001b[0m\u001b[0;34m(\u001b[0m\u001b[0md_loss\u001b[0m\u001b[0;34m[\u001b[0m\u001b[0;36m0\u001b[0m\u001b[0;34m]\u001b[0m\u001b[0;34m)\u001b[0m\u001b[0;34m\u001b[0m\u001b[0m\n",
      "\u001b[0;32m/usr/local/lib/python3.5/dist-packages/keras/engine/training.py\u001b[0m in \u001b[0;36mtrain_on_batch\u001b[0;34m(self, x, y, sample_weight, class_weight)\u001b[0m\n\u001b[1;32m   1213\u001b[0m             \u001b[0mins\u001b[0m \u001b[0;34m=\u001b[0m \u001b[0mx\u001b[0m \u001b[0;34m+\u001b[0m \u001b[0my\u001b[0m \u001b[0;34m+\u001b[0m \u001b[0msample_weights\u001b[0m\u001b[0;34m\u001b[0m\u001b[0m\n\u001b[1;32m   1214\u001b[0m         \u001b[0mself\u001b[0m\u001b[0;34m.\u001b[0m\u001b[0m_make_train_function\u001b[0m\u001b[0;34m(\u001b[0m\u001b[0;34m)\u001b[0m\u001b[0;34m\u001b[0m\u001b[0m\n\u001b[0;32m-> 1215\u001b[0;31m         \u001b[0moutputs\u001b[0m \u001b[0;34m=\u001b[0m \u001b[0mself\u001b[0m\u001b[0;34m.\u001b[0m\u001b[0mtrain_function\u001b[0m\u001b[0;34m(\u001b[0m\u001b[0mins\u001b[0m\u001b[0;34m)\u001b[0m\u001b[0;34m\u001b[0m\u001b[0m\n\u001b[0m\u001b[1;32m   1216\u001b[0m         \u001b[0;32mreturn\u001b[0m \u001b[0munpack_singleton\u001b[0m\u001b[0;34m(\u001b[0m\u001b[0moutputs\u001b[0m\u001b[0;34m)\u001b[0m\u001b[0;34m\u001b[0m\u001b[0m\n\u001b[1;32m   1217\u001b[0m \u001b[0;34m\u001b[0m\u001b[0m\n",
      "\u001b[0;32m/usr/local/lib/python3.5/dist-packages/keras/backend/tensorflow_backend.py\u001b[0m in \u001b[0;36m__call__\u001b[0;34m(self, inputs)\u001b[0m\n\u001b[1;32m   2670\u001b[0m                     \u001b[0;34m'In order to feed symbolic tensors to a Keras model '\u001b[0m\u001b[0;34m\u001b[0m\u001b[0m\n\u001b[1;32m   2671\u001b[0m                     'in TensorFlow, you need tensorflow 1.8 or higher.')\n\u001b[0;32m-> 2672\u001b[0;31m             \u001b[0;32mreturn\u001b[0m \u001b[0mself\u001b[0m\u001b[0;34m.\u001b[0m\u001b[0m_legacy_call\u001b[0m\u001b[0;34m(\u001b[0m\u001b[0minputs\u001b[0m\u001b[0;34m)\u001b[0m\u001b[0;34m\u001b[0m\u001b[0m\n\u001b[0m\u001b[1;32m   2673\u001b[0m \u001b[0;34m\u001b[0m\u001b[0m\n\u001b[1;32m   2674\u001b[0m \u001b[0;34m\u001b[0m\u001b[0m\n",
      "\u001b[0;32m/usr/local/lib/python3.5/dist-packages/keras/backend/tensorflow_backend.py\u001b[0m in \u001b[0;36m_legacy_call\u001b[0;34m(self, inputs)\u001b[0m\n\u001b[1;32m   2652\u001b[0m         \u001b[0msession\u001b[0m \u001b[0;34m=\u001b[0m \u001b[0mget_session\u001b[0m\u001b[0;34m(\u001b[0m\u001b[0;34m)\u001b[0m\u001b[0;34m\u001b[0m\u001b[0m\n\u001b[1;32m   2653\u001b[0m         updated = session.run(fetches=fetches, feed_dict=feed_dict,\n\u001b[0;32m-> 2654\u001b[0;31m                               **self.session_kwargs)\n\u001b[0m\u001b[1;32m   2655\u001b[0m         \u001b[0;32mreturn\u001b[0m \u001b[0mupdated\u001b[0m\u001b[0;34m[\u001b[0m\u001b[0;34m:\u001b[0m\u001b[0mlen\u001b[0m\u001b[0;34m(\u001b[0m\u001b[0mself\u001b[0m\u001b[0;34m.\u001b[0m\u001b[0moutputs\u001b[0m\u001b[0;34m)\u001b[0m\u001b[0;34m]\u001b[0m\u001b[0;34m\u001b[0m\u001b[0m\n\u001b[1;32m   2656\u001b[0m \u001b[0;34m\u001b[0m\u001b[0m\n",
      "\u001b[0;32m/usr/local/lib/python3.5/dist-packages/tensorflow/python/client/session.py\u001b[0m in \u001b[0;36mrun\u001b[0;34m(self, fetches, feed_dict, options, run_metadata)\u001b[0m\n\u001b[1;32m    903\u001b[0m     \u001b[0;32mtry\u001b[0m\u001b[0;34m:\u001b[0m\u001b[0;34m\u001b[0m\u001b[0m\n\u001b[1;32m    904\u001b[0m       result = self._run(None, fetches, feed_dict, options_ptr,\n\u001b[0;32m--> 905\u001b[0;31m                          run_metadata_ptr)\n\u001b[0m\u001b[1;32m    906\u001b[0m       \u001b[0;32mif\u001b[0m \u001b[0mrun_metadata\u001b[0m\u001b[0;34m:\u001b[0m\u001b[0;34m\u001b[0m\u001b[0m\n\u001b[1;32m    907\u001b[0m         \u001b[0mproto_data\u001b[0m \u001b[0;34m=\u001b[0m \u001b[0mtf_session\u001b[0m\u001b[0;34m.\u001b[0m\u001b[0mTF_GetBuffer\u001b[0m\u001b[0;34m(\u001b[0m\u001b[0mrun_metadata_ptr\u001b[0m\u001b[0;34m)\u001b[0m\u001b[0;34m\u001b[0m\u001b[0m\n",
      "\u001b[0;32m/usr/local/lib/python3.5/dist-packages/tensorflow/python/client/session.py\u001b[0m in \u001b[0;36m_run\u001b[0;34m(self, handle, fetches, feed_dict, options, run_metadata)\u001b[0m\n\u001b[1;32m   1138\u001b[0m     \u001b[0;32mif\u001b[0m \u001b[0mfinal_fetches\u001b[0m \u001b[0;32mor\u001b[0m \u001b[0mfinal_targets\u001b[0m \u001b[0;32mor\u001b[0m \u001b[0;34m(\u001b[0m\u001b[0mhandle\u001b[0m \u001b[0;32mand\u001b[0m \u001b[0mfeed_dict_tensor\u001b[0m\u001b[0;34m)\u001b[0m\u001b[0;34m:\u001b[0m\u001b[0;34m\u001b[0m\u001b[0m\n\u001b[1;32m   1139\u001b[0m       results = self._do_run(handle, final_targets, final_fetches,\n\u001b[0;32m-> 1140\u001b[0;31m                              feed_dict_tensor, options, run_metadata)\n\u001b[0m\u001b[1;32m   1141\u001b[0m     \u001b[0;32melse\u001b[0m\u001b[0;34m:\u001b[0m\u001b[0;34m\u001b[0m\u001b[0m\n\u001b[1;32m   1142\u001b[0m       \u001b[0mresults\u001b[0m \u001b[0;34m=\u001b[0m \u001b[0;34m[\u001b[0m\u001b[0;34m]\u001b[0m\u001b[0;34m\u001b[0m\u001b[0m\n",
      "\u001b[0;32m/usr/local/lib/python3.5/dist-packages/tensorflow/python/client/session.py\u001b[0m in \u001b[0;36m_do_run\u001b[0;34m(self, handle, target_list, fetch_list, feed_dict, options, run_metadata)\u001b[0m\n\u001b[1;32m   1319\u001b[0m     \u001b[0;32mif\u001b[0m \u001b[0mhandle\u001b[0m \u001b[0;32mis\u001b[0m \u001b[0;32mNone\u001b[0m\u001b[0;34m:\u001b[0m\u001b[0;34m\u001b[0m\u001b[0m\n\u001b[1;32m   1320\u001b[0m       return self._do_call(_run_fn, feeds, fetches, targets, options,\n\u001b[0;32m-> 1321\u001b[0;31m                            run_metadata)\n\u001b[0m\u001b[1;32m   1322\u001b[0m     \u001b[0;32melse\u001b[0m\u001b[0;34m:\u001b[0m\u001b[0;34m\u001b[0m\u001b[0m\n\u001b[1;32m   1323\u001b[0m       \u001b[0;32mreturn\u001b[0m \u001b[0mself\u001b[0m\u001b[0;34m.\u001b[0m\u001b[0m_do_call\u001b[0m\u001b[0;34m(\u001b[0m\u001b[0m_prun_fn\u001b[0m\u001b[0;34m,\u001b[0m \u001b[0mhandle\u001b[0m\u001b[0;34m,\u001b[0m \u001b[0mfeeds\u001b[0m\u001b[0;34m,\u001b[0m \u001b[0mfetches\u001b[0m\u001b[0;34m)\u001b[0m\u001b[0;34m\u001b[0m\u001b[0m\n",
      "\u001b[0;32m/usr/local/lib/python3.5/dist-packages/tensorflow/python/client/session.py\u001b[0m in \u001b[0;36m_do_call\u001b[0;34m(self, fn, *args)\u001b[0m\n\u001b[1;32m   1325\u001b[0m   \u001b[0;32mdef\u001b[0m \u001b[0m_do_call\u001b[0m\u001b[0;34m(\u001b[0m\u001b[0mself\u001b[0m\u001b[0;34m,\u001b[0m \u001b[0mfn\u001b[0m\u001b[0;34m,\u001b[0m \u001b[0;34m*\u001b[0m\u001b[0margs\u001b[0m\u001b[0;34m)\u001b[0m\u001b[0;34m:\u001b[0m\u001b[0;34m\u001b[0m\u001b[0m\n\u001b[1;32m   1326\u001b[0m     \u001b[0;32mtry\u001b[0m\u001b[0;34m:\u001b[0m\u001b[0;34m\u001b[0m\u001b[0m\n\u001b[0;32m-> 1327\u001b[0;31m       \u001b[0;32mreturn\u001b[0m \u001b[0mfn\u001b[0m\u001b[0;34m(\u001b[0m\u001b[0;34m*\u001b[0m\u001b[0margs\u001b[0m\u001b[0;34m)\u001b[0m\u001b[0;34m\u001b[0m\u001b[0m\n\u001b[0m\u001b[1;32m   1328\u001b[0m     \u001b[0;32mexcept\u001b[0m \u001b[0merrors\u001b[0m\u001b[0;34m.\u001b[0m\u001b[0mOpError\u001b[0m \u001b[0;32mas\u001b[0m \u001b[0me\u001b[0m\u001b[0;34m:\u001b[0m\u001b[0;34m\u001b[0m\u001b[0m\n\u001b[1;32m   1329\u001b[0m       \u001b[0mmessage\u001b[0m \u001b[0;34m=\u001b[0m \u001b[0mcompat\u001b[0m\u001b[0;34m.\u001b[0m\u001b[0mas_text\u001b[0m\u001b[0;34m(\u001b[0m\u001b[0me\u001b[0m\u001b[0;34m.\u001b[0m\u001b[0mmessage\u001b[0m\u001b[0;34m)\u001b[0m\u001b[0;34m\u001b[0m\u001b[0m\n",
      "\u001b[0;32m/usr/local/lib/python3.5/dist-packages/tensorflow/python/client/session.py\u001b[0m in \u001b[0;36m_run_fn\u001b[0;34m(feed_dict, fetch_list, target_list, options, run_metadata)\u001b[0m\n\u001b[1;32m   1310\u001b[0m       \u001b[0mself\u001b[0m\u001b[0;34m.\u001b[0m\u001b[0m_extend_graph\u001b[0m\u001b[0;34m(\u001b[0m\u001b[0;34m)\u001b[0m\u001b[0;34m\u001b[0m\u001b[0m\n\u001b[1;32m   1311\u001b[0m       return self._call_tf_sessionrun(\n\u001b[0;32m-> 1312\u001b[0;31m           options, feed_dict, fetch_list, target_list, run_metadata)\n\u001b[0m\u001b[1;32m   1313\u001b[0m \u001b[0;34m\u001b[0m\u001b[0m\n\u001b[1;32m   1314\u001b[0m     \u001b[0;32mdef\u001b[0m \u001b[0m_prun_fn\u001b[0m\u001b[0;34m(\u001b[0m\u001b[0mhandle\u001b[0m\u001b[0;34m,\u001b[0m \u001b[0mfeed_dict\u001b[0m\u001b[0;34m,\u001b[0m \u001b[0mfetch_list\u001b[0m\u001b[0;34m)\u001b[0m\u001b[0;34m:\u001b[0m\u001b[0;34m\u001b[0m\u001b[0m\n",
      "\u001b[0;32m/usr/local/lib/python3.5/dist-packages/tensorflow/python/client/session.py\u001b[0m in \u001b[0;36m_call_tf_sessionrun\u001b[0;34m(self, options, feed_dict, fetch_list, target_list, run_metadata)\u001b[0m\n\u001b[1;32m   1418\u001b[0m         return tf_session.TF_Run(\n\u001b[1;32m   1419\u001b[0m             \u001b[0mself\u001b[0m\u001b[0;34m.\u001b[0m\u001b[0m_session\u001b[0m\u001b[0;34m,\u001b[0m \u001b[0moptions\u001b[0m\u001b[0;34m,\u001b[0m \u001b[0mfeed_dict\u001b[0m\u001b[0;34m,\u001b[0m \u001b[0mfetch_list\u001b[0m\u001b[0;34m,\u001b[0m \u001b[0mtarget_list\u001b[0m\u001b[0;34m,\u001b[0m\u001b[0;34m\u001b[0m\u001b[0m\n\u001b[0;32m-> 1420\u001b[0;31m             status, run_metadata)\n\u001b[0m\u001b[1;32m   1421\u001b[0m \u001b[0;34m\u001b[0m\u001b[0m\n\u001b[1;32m   1422\u001b[0m   \u001b[0;32mdef\u001b[0m \u001b[0m_call_tf_sessionprun\u001b[0m\u001b[0;34m(\u001b[0m\u001b[0mself\u001b[0m\u001b[0;34m,\u001b[0m \u001b[0mhandle\u001b[0m\u001b[0;34m,\u001b[0m \u001b[0mfeed_dict\u001b[0m\u001b[0;34m,\u001b[0m \u001b[0mfetch_list\u001b[0m\u001b[0;34m)\u001b[0m\u001b[0;34m:\u001b[0m\u001b[0;34m\u001b[0m\u001b[0m\n",
      "\u001b[0;31mKeyboardInterrupt\u001b[0m: "
     ]
    }
   ],
   "source": [
    "noise = np.random.normal(0, 1, (64, noise_size))\n",
    "predictions = []\n",
    "for i in range(1000):\n",
    "    print(i)\n",
    "    model.train(X, 10, 64)\n",
    "    pred = model.generator.predict(noise)\n",
    "    predictions.append(pred)"
   ]
  },
  {
   "cell_type": "code",
   "execution_count": 13,
   "metadata": {},
   "outputs": [
    {
     "data": {
      "text/plain": [
       "<matplotlib.image.AxesImage at 0x7f1f9e4c6048>"
      ]
     },
     "execution_count": 13,
     "metadata": {},
     "output_type": "execute_result"
    },
    {
     "data": {
      "image/png": "[encoded data removed]",
      "text/plain": [
       "<Figure size 432x288 with 1 Axes>"
      ]
     },
     "metadata": {},
     "output_type": "display_data"
    }
   ],
   "source": [
    "plt.imshow(predictions[0][0,:,:,0])"
   ]
  },
  {
   "cell_type": "code",
   "execution_count": 28,
   "metadata": {},
   "outputs": [
    {
     "data": {
      "text/plain": [
       "(64, 28, 28, 1)"
      ]
     },
     "execution_count": 28,
     "metadata": {},
     "output_type": "execute_result"
    }
   ],
   "source": [
    "predictions[0].shape"
   ]
  },
  {
   "cell_type": "code",
   "execution_count": 46,
   "metadata": {},
   "outputs": [
    {
     "data": {
      "image/png": "[encoded data removed]",
      "text/plain": [
       "<Figure size 432x288 with 1 Axes>"
      ]
     },
     "metadata": {},
     "output_type": "display_data"
    }
   ],
   "source": [
    "import numpy as np\n",
    "import matplotlib.pyplot as plt\n",
    "from matplotlib import animation, rc\n",
    "from IPython.display import HTML\n",
    "\n",
    "fig = plt.figure()\n",
    "im = plt.imshow(predictions[0][0,:,:,0], animated=True)\n",
    "\n",
    "\n",
    "def animate(i):\n",
    "    im.set_array(predictions[i][0,:,:,0])\n",
    "    return (im,)\n",
    "\n",
    "\n",
    "# call the animator. blit=True means only re-draw the parts that have changed.\n",
    "anim = animation.FuncAnimation(fig, animate, frames=len(predictions), interval=50, blit=True)\n",
    "plt.show()\n"
   ]
  },
  {
   "cell_type": "code",
   "execution_count": 47,
   "metadata": {},
   "outputs": [
    {
     "data": {
      "text/html": [
       "<video width=\"432\" height=\"288\" controls autoplay loop>\n",
       "  <source type=\"video/mp4\" src=\"data:video/mp4;base64,AAAAHGZ0eXBNNFYgAAACAGlzb21pc28yYXZjMQAAAAhmcmVlAAASx21kYXQAAAKuBgX//6rcRem9\n",
       "5tlIt5Ys2CDZI+7veDI2NCAtIGNvcmUgMTQ4IHIyNjQzIDVjNjU3MDQgLSBILjI2NC9NUEVHLTQg\n",
       "QVZDIGNvZGVjIC0gQ29weWxlZnQgMjAwMy0yMDE1IC0gaHR0cDovL3d3dy52aWRlb2xhbi5vcmcv\n",
       "eDI2NC5odG1sIC0gb3B0aW9uczogY2FiYWM9MSByZWY9MyBkZWJsb2NrPTE6MDowIGFuYWx5c2U9\n",
       "MHgzOjB4MTEzIG1lPWhleCBzdWJtZT03IHBzeT0xIHBzeV9yZD0xLjAwOjAuMDAgbWl4ZWRfcmVm\n",
       "PTEgbWVfcmFuZ2U9MTYgY2hyb21hX21lPTEgdHJlbGxpcz0xIDh4OGRjdD0xIGNxbT0wIGRlYWR6\n",
       "b25lPTIxLDExIGZhc3RfcHNraXA9MSBjaHJvbWFfcXBfb2Zmc2V0PS0yIHRocmVhZHM9NiBsb29r\n",
       "YWhlYWRfdGhyZWFkcz0xIHNsaWNlZF90aHJlYWRzPTAgbnI9MCBkZWNpbWF0ZT0xIGludGVybGFj\n",
       "ZWQ9MCBibHVyYXlfY29tcGF0PTAgY29uc3RyYWluZWRfaW50cmE9MCBiZnJhbWVzPTMgYl9weXJh\n",
       "bWlkPTIgYl9hZGFwdD0xIGJfYmlhcz0wIGRpcmVjdD0xIHdlaWdodGI9MSBvcGVuX2dvcD0wIHdl\n",
       "aWdodHA9MiBrZXlpbnQ9MjUwIGtleWludF9taW49MjAgc2NlbmVjdXQ9NDAgaW50cmFfcmVmcmVz\n",
       "aD0wIHJjX2xvb2thaGVhZD00MCByYz1jcmYgbWJ0cmVlPTEgY3JmPTIzLjAgcWNvbXA9MC42MCBx\n",
       "cG1pbj0wIHFwbWF4PTY5IHFwc3RlcD00IGlwX3JhdGlvPTEuNDAgYXE9MToxLjAwAIAAAA3LZYiE\n",
       "ADv//vdOvwKbRZdqA5JXCvbKpCZZuVJrAfKmAAADAAARsG58lw15q9IkAACtvsMe1rwDXAAQ3iRg\n",
       "86y9eXmh4041sXwpnpN+xUtvkumGSQsqPMON2+8xWeF7ZZpDr0k/ZOapRr79m4da/9fHwfH/KTAO\n",
       "niSQuK0Iaz1/OUo6cjQDKsCHtgH4YrT8e1QVwBOllElkm764Z2+m8eX7NY/zbiTVAOsriY6Nrjdl\n",
       "SQeQoo5dQLKoqwJcj66SPESj2y6vRxJJCMvC6ZmiPQetfDSxO0nU4/nt5+SecQ6ySmFVb1rI6meD\n",
       "KQ/rNSuftOC96InsSjvWsHbeOvhK6scjpNv+7ZrtkLYG/fFOStWC0InRdB9/d7fansD4pvAaXcXK\n",
       "ILaxVUi6Eu0/Wk+Ts41BbNcYDKppP2IRmiJc0nkaFOoWrERB0v5yA8RA348cxG2HHg2BcJlShPt3\n",
       "YocFzeXNAos6s0smgn+s3hcozId09SWTkNSS4VoWDMzHToS4jzWDzfoASSdI4nCapSEBZFg5Mmvy\n",
       "fX/adyi20N4pXU2xMAxZ8R45+VHm9stFHGnBMfem3Jm00g+dKRnOkoiK1rTu42w2ymZtJzPclAI+\n",
       "tMxM/I72tqlN34ULr09EpUfcsxlWZsTFo8VYO59ml2uATWG/VP0cTI0oa+NNJF5LBB4vzAoAe55S\n",
       "KRz1PRafQ6wHSKKdpHb4QGRfLhWUrwxB+fXPhk5ptVLiE+KK9RKxQCiUX6MRnusGOO7nU+HNSaGL\n",
       "ab3g0iFgOs+bfm2jA73niDWu1XmwGd4kt6Dfl1TPqnJYCGz6MWRGnpCMeJOyvvSZ8ipZT/MbKpLv\n",
       "R7cqkszniK6L1lXSMlsbEyMA9hZY6DtJdYUMbR4d5qqvx6/7K+l0JMG4IOdpyCuK1DwC15/eL06p\n",
       "1vZXD+TrWwEhb4y5n3N2jn0KcAHjDz29YGy+vYatD5ckOx/SnX9oX4VzkKhpTCuXzYyuM1ZkskNB\n",
       "1PKLe0Tg50Grxq/2SmQ/aEyrsEouQWQawj+MCBOObWcTbruE7ekhCqLX7peIH7ynBFOO4irwYF7i\n",
       "MY9MSLtsiPtYk7GFvseWRpyZsc4eer7dmHw2qHvH441Y0kzFVdSC9x40LP8ZxK0JPkEhrEFKtcz6\n",
       "SgwUsWQn5yR04heH0qB2uAFjMRNcCHnh9fohpO9XFfBK3WuzUFRY/7I6HC2dy6+vdohb3nZzQp7S\n",
       "t98tFWfCVO6qu7MxrxkXwe19NFI3x95F4GT0RlsL0h6q4+RBAnANJrzN93dKifdtVzMHZQBJWpbM\n",
       "mbMuubgUFxFvZ793X0n4MitB1rnjSa+/ZafIu+fE7S5fAHZakjMs5LHIKXqQYv38bboC1yOoDZ8W\n",
       "sI4Gdv77VwGy71tkiZecWP4I6Rweiwf+RdT07UrDM2DPj2yo3pNjgTh+xLk/Dgqh2+8pTlnSas//\n",
       "O0SqOGj7TA1J/8aMam1Gm1vzxoPmys5fb9DUWDF4fQeteXFPjwzUs7znCni26zh2Qd75PksM2QOH\n",
       "x8Up3v3plOogCvjgsEGaV96HKUEqac6Wis+WzeVvDpFdWchEKVkdd86FzFtInoxUGGUeVBcb35s4\n",
       "iUtrfZUznnSxLAwd2Joa4dGjnDqwWo8XR4RiuWRabYO638HGd2YLHV5Feh1pHmJxgbV/VBjbU3mC\n",
       "Gp+m4ILGTe/uDCmkxlfO/Ct7hrLyMc6yzVKTZJuEB2IySWfzZC7e5FCX9ojqB+7BYy6kXrprCBbq\n",
       "8CnRDz9x40pphEu6nOE2HSSpFqtmrPM6y3wxXk5z9nV63Vn9mZjrVlf5hxTpNBniUw4iopuGDXSz\n",
       "cTSzj7ZKmWd+RWbbuBq8752gyH6Ri2dh6ZUXo8CSMdwPeFGqng45jXmNmgHzEapZznJcJgVBauCC\n",
       "lsGxsonfko3SFsCWIKiaf59HH8OIceccyKOd4F144qPSGBZBG/zuSz2+6jAgAG3IoYz8bvlc2IJw\n",
       "WyUfno/nDY8kPZ/6Z0pxc/2Oqjj+IK/mwllWpqteEnf+It3bGaYpq4t0cxQReHf3h+dltTUXndaw\n",
       "BOsUa5X9L3US/LEufV+sBYVU4xT/xgRwmLxA3V8+9rPTZsEXjH+r3bw1CMmEwqXCvnJxerGod3KM\n",
       "fsr0GeD2X2Maq+vn65VNh7AbsucOvwzqpbACAid659tnywmT1wDPC7UQD+oPMzly9H/FG8n7NS4T\n",
       "7crfEQG+XZ51SF7NUmPIYukwKf/ot70oAH6zwcAQR655gu0owv/bH8u/B/JehgR8SCxMte4xAFWd\n",
       "X1ne7SUDOquF6FuE43zh3/7T4XJ02R89WBX8CRhxLtpZWBM+NfRZT1W9XsBHQJUq1Qz/rxkqOK5I\n",
       "KKVu3c7ElJWFPLiT9VKmbGGGDnC5hTrCLvZdsOgjyRP0GmXvyfukIWwVerIwy/5hImc8q7BSeYdu\n",
       "1zVQTDf7BRWS5J7KbWwNNnjHTAot14sjLqonFbFK1G7KcHqlHCA2ybr89GmrSYfF8mbAsJpXFXo6\n",
       "6+iR6kroCLM4IyVTD4myZNAyEn76qlNICTfDxfrO2qo7Mxh1YoEl83OBwFyAMjL08vUu5A1moXMl\n",
       "RfBAhZ+qZ2oeZOm9AVyAUDua5ZfonnND5wWi4K+WMmTEYvwvpaW6WRSTJ68UiHN0w25XsIBBHCkg\n",
       "zXzNGS0BWEz5aY/RPvL1yRC1cPOMjAsiI1g1IvlEqSj9a0NUd13VyOW39/H5GL0xB2bmeKf7tLLW\n",
       "HPHdYwkqdReq4rS1+RFNsMWoWn63zFYEuj9IAqjL/hdNHP9+l7oa6vyl/II7xOvJlxP7z1ZunPbC\n",
       "FWAzwW8X0IklJWWcm1Cb2gw6eQcXsEKqIwu4vBV8NxcoAQHAEH23rLRutMQ2KR8hxGu0M0Ztrxyt\n",
       "TnAk5h6izpky6OBopVx2KXZC3YI3rhctfbphevKdH/eyHIHmt5y+I3D0/qxNJvyr/9YhTkWWTHj9\n",
       "Dx2FQh5xexPVkI+14nFCueZpZccc9OnCX0qzvaS1/39RC2r8tMsJ8vcBV2GDgBcybJyuO2xQUdkL\n",
       "ZFM4/kObuvfWl3mPdH5zpOR7At3LKpiVXO+PHiHhdi0BWaNq3rlOF5vOw1wO+S330p66VGGYVM5D\n",
       "KOMDeJm3Pc4F6cHNDfCD+YzF6aYjsiPscJZ52lywGJJGrHvsViJo8QVdJCRAZJBD94ZHKsWgAoxy\n",
       "0HiIQK+QHNYVW4E/hLKD/OXa5ERzxHjr1snuwFW04OcooHsqlAwrByK4Q/gVjvsElnRCNpk/VkEM\n",
       "U36deAY9pSK4bK2auC+G+acDBBPcs1x2eq+OmtB4BCOQeAQgbUObJJUlFecrHdOQiWXFzlp8Y+4J\n",
       "NO1B8wiTPmEI/73KnF8dQr3i7tn8DaPAGeIDbmQt3imDA+XlUGSrIw9e1D0WOyFFEItVD/wdrsxh\n",
       "1ws5McTUjZHsacXPw3XPLxNtsCwleUwNSbmlvyFbbjxEJr3GM3eQ8XuPZaEksB+Uhx7dvME610Jk\n",
       "4xHiGzOrXJUx2mlUbQOWqrvN4qKeKhQJd+vRw27VnIazClLrGY3Xx7AxdGpVqgaqAfkQPWHtaZF8\n",
       "a5JYIhiH3bRcpN1KphyAhu/u+25S3hyB7QdhuyWZ2HQFOnbX/zoODh0jWpH2zIdPrjRhSF4cKMmC\n",
       "Wg2DpD1oxEaUydByWWnJhPlUBvGpPXo3EcHhWZ4EwApiLwxZ+WVZhNzUpk6GzSZikdKcU12jPRgV\n",
       "P+gU498ejHRx1P2j/VrUAkIM+XQWGe6unngwqVIK8hAP/TuDGSlKo4CA9CvlzjPPx05RBVT3EAzG\n",
       "aLn48ntkKIGZFJzVU3DdDgxBczeYweOX/k+fXX4tbqvYbQuKV5GK/vhXCJv31TerGVvZF/LQg763\n",
       "O8vWmVyjkZLWmdb0zNgep54ioJh0CjgYMyk+pM6bnteoCghb9fEt9flrjUpwJzajkTEPzyjliPIo\n",
       "ZriX60LxVwgf58lcdh2yj+In0F7jnHT/bUvoJVvULUdI2x+H43l6k6j7C/DuTE87r//pjAATW9Vb\n",
       "6IoZJyory3VmXiGViLNefwrBKsnXO+ikolRVEL4bMth1RBljF+95FylpPNRCdfZyzC1lRABOpvMr\n",
       "OoPPYvWmdAjBFXhrebORAB0ILaq7Vmfw69ZO7YzbXvelxEcilBOUldfe1qaF8GuOgMxixC7oggE2\n",
       "Inw8QJH1EfWfEIcfGUjMK/n/EUm+NiwLmuyejbvIjnjBWCA3w481FU0e61Tbud4YiY2CiqXwUFJT\n",
       "TVKUoFjtlXwFAxlkyxhnc3y7KC6yX0y34zk1tfDbEao86wkdpFw3OiBzzmu1extEdxL1JhtAERdz\n",
       "EP7TmyAMjih9SYKQY6KrvkwHP57lpKEvn4cyF5c7hGyjMUdBeO5mcQcwhPGcdKwpR5dUmtTyaEU0\n",
       "+jIEQMeMtSe6pXaP0GSdDsezWQQuSMnTk+2LGAM6Somk9h5NoBPvFrP9NOig5VGa26XB6uIMvYdz\n",
       "FYg0BlgX6PtO0gZ8XRVPOGqFWCT9VhWNceIts4H7JDZi3SZWPKhRoel67kecFBnIWq56BdvFw/r+\n",
       "7MRh6dVb/w4UHpRP4k/lMmUDxMIJ9G7mn98EGMpcfHw/XhzmfI872zEBc+gbBmxQnrZFg8uoMyb2\n",
       "Xj+Snlvxb3BPQcnVs3g6kPPiEprtGUfylifcRVkw0AmW+wWCe1b0/Q5VCAAG+93P+4/TAAAA90Ga\n",
       "JGxDv/6plghe2gXv8t9u1zDP8nDD5+Ix21T3pNuPVeSUwoWCRFJlNKh3FSvkLaZGZYbHuHucrxVE\n",
       "4kUOPsam9FC5Stf+QR/MlAOpweo9fVnjJY9PBc97LJLUFcjlFCV4LaXWfJ4YpbE0A0bTJ3GZrJQP\n",
       "e1JJ0Fd2+QC5DtdKXhVohoLDr1TcWyQGN7ngoHLf5yTkz+3ggYeaUAkm3xDxhE+SYm0G4/sqjCxS\n",
       "4sP1gFIw9MgC38DSg/oYQ7GatbDkud+RXAri/uaTiSYXUwRrdh/Xd8iHcqg0pG1ZbzmNfKtCCeP3\n",
       "qG4GZ6v92U3dKH28Or+Ct4AAAABJQZ5CeIZ/AZTGr3N/nQVVpE8NT4UwDWKB9gtAqKUcaWuprcSx\n",
       "VByng2iNNSPhAusfFRfmhsdW8SltT5MhH75xTf96nm9zxRQMIQAAADUBnmF0Qr8CzS2KCpPWcrGU\n",
       "KMNS0K3rWGbp0iWTvRe30l36n5q1wwEPUdJCHisnwr/8OAaFtAAAABgBnmNqQr8AB+8xXbp75TBn\n",
       "shUVVB5zCXkAAAAhQZpoSahBaJlMCGf//p4QAAL66eoFBq/s+wyzVScj9YfhAAAAKUGehkURLDP/\n",
       "ACC0A3cteiAFErsHVYrMv6X4MIBx92id9XjhdudmvVmJAAAAGQGepXRCvwAH8UyTPpgU74BDNUqt\n",
       "ZjZ4SpsAAAAXAZ6nakK/AAfvMV26e+UwZ7HFXCcsqoAAAAATQZqpSahBbJlMCFf//jhAAAAccAAA\n",
       "A6Ztb292AAAAbG12aGQAAAAAAAAAAAAAAAAAAAPoAAAB9AABAAABAAAAAAAAAAAAAAAAAQAAAAAA\n",
       "AAAAAAAAAAAAAAEAAAAAAAAAAAAAAAAAAEAAAAAAAAAAAAAAAAAAAAAAAAAAAAAAAAAAAAAAAAAC\n",
       "AAAC0HRyYWsAAABcdGtoZAAAAAMAAAAAAAAAAAAAAAEAAAAAAAAB9AAAAAAAAAAAAAAAAAAAAAAA\n",
       "AQAAAAAAAAAAAAAAAAAAAAEAAAAAAAAAAAAAAAAAAEAAAAABsAAAASAAAAAAACRlZHRzAAAAHGVs\n",
       "c3QAAAAAAAAAAQAAAfQAAAQAAAEAAAAAAkhtZGlhAAAAIG1kaGQAAAAAAAAAAAAAAAAAACgAAAAU\n",
       "AFXEAAAAAAAtaGRscgAAAAAAAAAAdmlkZQAAAAAAAAAAAAAAAFZpZGVvSGFuZGxlcgAAAAHzbWlu\n",
       "ZgAAABR2bWhkAAAAAQAAAAAAAAAAAAAAJGRpbmYAAAAcZHJlZgAAAAAAAAABAAAADHVybCAAAAAB\n",
       "AAABs3N0YmwAAACzc3RzZAAAAAAAAAABAAAAo2F2YzEAAAAAAAAAAQAAAAAAAAAAAAAAAAAAAAAB\n",
       "sAEgAEgAAABIAAAAAAAAAAEAAAAAAAAAAAAAAAAAAAAAAAAAAAAAAAAAAAAAAAAAAAAY//8AAAAx\n",
       "YXZjQwFkABX/4QAYZ2QAFazZQbCWhAAAAwAEAAADAKA8WLZYAQAGaOvjyyLAAAAAHHV1aWRraEDy\n",
       "XyRPxbo5pRvPAyPzAAAAAAAAABhzdHRzAAAAAAAAAAEAAAAKAAACAAAAABRzdHNzAAAAAAAAAAEA\n",
       "AAABAAAAYGN0dHMAAAAAAAAACgAAAAEAAAQAAAAAAQAACgAAAAABAAAEAAAAAAEAAAAAAAAAAQAA\n",
       "AgAAAAABAAAKAAAAAAEAAAQAAAAAAQAAAAAAAAABAAACAAAAAAEAAAQAAAAAHHN0c2MAAAAAAAAA\n",
       "AQAAAAEAAAAKAAAAAQAAADxzdHN6AAAAAAAAAAAAAAAKAAAQgQAAAPsAAABNAAAAOQAAABwAAAAl\n",
       "AAAALQAAAB0AAAAbAAAAFwAAABRzdGNvAAAAAAAAAAEAAAAsAAAAYnVkdGEAAABabWV0YQAAAAAA\n",
       "AAAhaGRscgAAAAAAAAAAbWRpcmFwcGwAAAAAAAAAAAAAAAAtaWxzdAAAACWpdG9vAAAAHWRhdGEA\n",
       "AAABAAAAAExhdmY1Ni40MC4xMDE=\n",
       "\">\n",
       "  Your browser does not support the video tag.\n",
       "</video>"
      ],
      "text/plain": [
       "<IPython.core.display.HTML object>"
      ]
     },
     "execution_count": 47,
     "metadata": {},
     "output_type": "execute_result"
    }
   ],
   "source": [
    "HTML(anim.to_html5_video())"
   ]
  },
  {
   "cell_type": "code",
   "execution_count": null,
   "metadata": {},
   "outputs": [],
   "source": []
  },
  {
   "cell_type": "code",
   "execution_count": null,
   "metadata": {},
   "outputs": [],
   "source": []
  }
 ],
 "metadata": {
  "kernelspec": {
   "display_name": "Python 3",
   "language": "python",
   "name": "python3"
  },
  "language_info": {
   "codemirror_mode": {
    "name": "ipython",
    "version": 3
   },
   "file_extension": ".py",
   "mimetype": "text/x-python",
   "name": "python",
   "nbconvert_exporter": "python",
   "pygments_lexer": "ipython3",
   "version": "3.5.2"
  }
 },
 "nbformat": 4,
 "nbformat_minor": 2
}
